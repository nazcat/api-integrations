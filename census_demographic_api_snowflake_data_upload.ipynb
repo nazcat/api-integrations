{
 "cells": [
  {
   "cell_type": "markdown",
   "id": "4832c738",
   "metadata": {},
   "source": [
    "# Census Demographic API: Snowflake Data Upload\n",
    "\n",
    "- #### Reference: \n",
    "    - API User Guide: https://www.census.gov/content/dam/Census/data/developers/api-user-guide/api-guide.pdf\n",
    "    - Geo specific pull: https://www.census.gov/data/developers/data-sets/acs-5year.html\n",
    "    - High level populations: https://api.census.gov/data/2019/pep/population.html\n",
    "    - Population by granular demo (race, gender, age, etc): https://www.census.gov/data/developers/data-sets/popest-popproj/popest.html\n",
    "        - Variables: https://api.census.gov/data/2019/pep/charage/variables.htmlhttps://api.census.gov/data/2019/pep/charage/variables.html\n",
    "- #### Available APIs: https://www.census.gov/data/developers/data-sets.html\n",
    "- #### Annotations: https://www.census.gov/data/developers/data-sets/acs-1year/notes-on-acs-estimate-and-annotation-values.html\n",
    "- #### Metadata Mapping:  https://www.census.gov/data/developers/data-sets/popest-popproj/popest/popest-vars.Vintage_2019.html\n"
   ]
  },
  {
   "cell_type": "code",
   "execution_count": 16,
   "id": "85b64b5e",
   "metadata": {
    "scrolled": false
   },
   "outputs": [
    {
     "name": "stdout",
     "output_type": "stream",
     "text": [
      "[[\"NAME\",\"SEX\",\"RACE\",\"AGE\",\"HISP\",\"POP\",\"DATE_CODE\",\"state\"],\n",
      "[\"Alabama\",\"0\",\"0\",\"0\",\"0\",\"56901\",\"12\",\"01\"],\n",
      "[\"Alabama\",\"0\",\"0\",\"0\",\"1\",\"51761\",\"12\",\"01\"],\n",
      "[\"Alabama\",\"0\",\"0\",\"0\",\"2\",\"5140\",\"12\",\"01\"\n"
     ]
    }
   ],
   "source": [
    "import requests\n",
    "\n",
    "# Census data pull by NAME, SEX, RACE, AGE, HISPANIC, DATA REFRESH DATE, POPULATION\n",
    "# Get API key after creating free account w/ Census online\n",
    "\n",
    "data_url = f'https://api.census.gov/data/2019/pep/charage?get=NAME,SEX,RACE,AGE,HISP,POP&for=state:*&DATE_CODE=12&key=<APIKEY>'\n",
    "response=requests.get(data_url)\n",
    "print(response.text[:200])"
   ]
  },
  {
   "cell_type": "code",
   "execution_count": 19,
   "id": "d9e1b79a",
   "metadata": {},
   "outputs": [
    {
     "data": {
      "text/html": [
       "<div>\n",
       "<style scoped>\n",
       "    .dataframe tbody tr th:only-of-type {\n",
       "        vertical-align: middle;\n",
       "    }\n",
       "\n",
       "    .dataframe tbody tr th {\n",
       "        vertical-align: top;\n",
       "    }\n",
       "\n",
       "    .dataframe thead th {\n",
       "        text-align: right;\n",
       "    }\n",
       "</style>\n",
       "<table border=\"1\" class=\"dataframe\">\n",
       "  <thead>\n",
       "    <tr style=\"text-align: right;\">\n",
       "      <th></th>\n",
       "      <th>STATE</th>\n",
       "      <th>SEX</th>\n",
       "      <th>RACE</th>\n",
       "      <th>AGE</th>\n",
       "      <th>HISPANIC</th>\n",
       "      <th>POPULATION</th>\n",
       "      <th>REFRESH_DT</th>\n",
       "      <th>STATE_ID</th>\n",
       "    </tr>\n",
       "  </thead>\n",
       "  <tbody>\n",
       "    <tr>\n",
       "      <th>0</th>\n",
       "      <td>Alabama</td>\n",
       "      <td>0</td>\n",
       "      <td>0</td>\n",
       "      <td>0</td>\n",
       "      <td>0</td>\n",
       "      <td>56901</td>\n",
       "      <td>12</td>\n",
       "      <td>01</td>\n",
       "    </tr>\n",
       "    <tr>\n",
       "      <th>1</th>\n",
       "      <td>Alabama</td>\n",
       "      <td>0</td>\n",
       "      <td>0</td>\n",
       "      <td>0</td>\n",
       "      <td>1</td>\n",
       "      <td>51761</td>\n",
       "      <td>12</td>\n",
       "      <td>01</td>\n",
       "    </tr>\n",
       "    <tr>\n",
       "      <th>2</th>\n",
       "      <td>Alabama</td>\n",
       "      <td>0</td>\n",
       "      <td>0</td>\n",
       "      <td>0</td>\n",
       "      <td>2</td>\n",
       "      <td>5140</td>\n",
       "      <td>12</td>\n",
       "      <td>01</td>\n",
       "    </tr>\n",
       "    <tr>\n",
       "      <th>3</th>\n",
       "      <td>Alabama</td>\n",
       "      <td>0</td>\n",
       "      <td>1</td>\n",
       "      <td>0</td>\n",
       "      <td>0</td>\n",
       "      <td>35594</td>\n",
       "      <td>12</td>\n",
       "      <td>01</td>\n",
       "    </tr>\n",
       "    <tr>\n",
       "      <th>4</th>\n",
       "      <td>Alabama</td>\n",
       "      <td>0</td>\n",
       "      <td>1</td>\n",
       "      <td>0</td>\n",
       "      <td>1</td>\n",
       "      <td>31393</td>\n",
       "      <td>12</td>\n",
       "      <td>01</td>\n",
       "    </tr>\n",
       "  </tbody>\n",
       "</table>\n",
       "</div>"
      ],
      "text/plain": [
       "     STATE SEX RACE AGE HISPANIC POPULATION REFRESH_DT STATE_ID\n",
       "0  Alabama   0    0   0        0      56901         12       01\n",
       "1  Alabama   0    0   0        1      51761         12       01\n",
       "2  Alabama   0    0   0        2       5140         12       01\n",
       "3  Alabama   0    1   0        0      35594         12       01\n",
       "4  Alabama   0    1   0        1      31393         12       01"
      ]
     },
     "execution_count": 19,
     "metadata": {},
     "output_type": "execute_result"
    }
   ],
   "source": [
    "import pandas as pd\n",
    "\n",
    "data=response.json()\n",
    "df=pd.DataFrame(data[1:], columns=data[0]).\\\n",
    "    rename(columns={\"NAME\": \"STATE\", \"SEX\": \"SEX\", \"RACE\":\"RACE\", \"AGE\":\"AGE\", \"HISP\":\"HISPANIC\", \\\n",
    "                    \"POP\":\"POPULATION\", \"DATE_CODE\":\"REFRESH_DT\", \"state\":\"STATE_ID\"})\n",
    "#df=df.astype(dtype={'Natural Increase':'int64','Net Domestic Mig':'int64','Net Foreign Mig':'int64'},inplace=True)\n",
    "df.head()"
   ]
  },
  {
   "cell_type": "code",
   "execution_count": 20,
   "id": "6affbdd8",
   "metadata": {},
   "outputs": [
    {
     "data": {
      "text/plain": [
       "479502"
      ]
     },
     "execution_count": 20,
     "metadata": {},
     "output_type": "execute_result"
    }
   ],
   "source": [
    "len(df)"
   ]
  },
  {
   "cell_type": "code",
   "execution_count": 30,
   "id": "180a9596",
   "metadata": {
    "scrolled": true
   },
   "outputs": [
    {
     "data": {
      "text/html": [
       "<div>\n",
       "<style scoped>\n",
       "    .dataframe tbody tr th:only-of-type {\n",
       "        vertical-align: middle;\n",
       "    }\n",
       "\n",
       "    .dataframe tbody tr th {\n",
       "        vertical-align: top;\n",
       "    }\n",
       "\n",
       "    .dataframe thead th {\n",
       "        text-align: right;\n",
       "    }\n",
       "</style>\n",
       "<table border=\"1\" class=\"dataframe\">\n",
       "  <thead>\n",
       "    <tr style=\"text-align: right;\">\n",
       "      <th></th>\n",
       "      <th>STATE</th>\n",
       "      <th>SEX</th>\n",
       "      <th>RACE</th>\n",
       "      <th>AGE</th>\n",
       "      <th>HISPANIC</th>\n",
       "      <th>POPULATION</th>\n",
       "      <th>REFRESH_DT</th>\n",
       "      <th>STATE_ID</th>\n",
       "    </tr>\n",
       "  </thead>\n",
       "  <tbody>\n",
       "    <tr>\n",
       "      <th>0</th>\n",
       "      <td>Alabama</td>\n",
       "      <td>0</td>\n",
       "      <td>0</td>\n",
       "      <td>0</td>\n",
       "      <td>0</td>\n",
       "      <td>56901</td>\n",
       "      <td>2019</td>\n",
       "      <td>01</td>\n",
       "    </tr>\n",
       "    <tr>\n",
       "      <th>1</th>\n",
       "      <td>Alabama</td>\n",
       "      <td>0</td>\n",
       "      <td>0</td>\n",
       "      <td>0</td>\n",
       "      <td>1</td>\n",
       "      <td>51761</td>\n",
       "      <td>2019</td>\n",
       "      <td>01</td>\n",
       "    </tr>\n",
       "    <tr>\n",
       "      <th>2</th>\n",
       "      <td>Alabama</td>\n",
       "      <td>0</td>\n",
       "      <td>0</td>\n",
       "      <td>0</td>\n",
       "      <td>2</td>\n",
       "      <td>5140</td>\n",
       "      <td>2019</td>\n",
       "      <td>01</td>\n",
       "    </tr>\n",
       "    <tr>\n",
       "      <th>3</th>\n",
       "      <td>Alabama</td>\n",
       "      <td>0</td>\n",
       "      <td>1</td>\n",
       "      <td>0</td>\n",
       "      <td>0</td>\n",
       "      <td>35594</td>\n",
       "      <td>2019</td>\n",
       "      <td>01</td>\n",
       "    </tr>\n",
       "    <tr>\n",
       "      <th>4</th>\n",
       "      <td>Alabama</td>\n",
       "      <td>0</td>\n",
       "      <td>1</td>\n",
       "      <td>0</td>\n",
       "      <td>1</td>\n",
       "      <td>31393</td>\n",
       "      <td>2019</td>\n",
       "      <td>01</td>\n",
       "    </tr>\n",
       "  </tbody>\n",
       "</table>\n",
       "</div>"
      ],
      "text/plain": [
       "     STATE SEX RACE AGE HISPANIC POPULATION REFRESH_DT STATE_ID\n",
       "0  Alabama   0    0   0        0      56901       2019       01\n",
       "1  Alabama   0    0   0        1      51761       2019       01\n",
       "2  Alabama   0    0   0        2       5140       2019       01\n",
       "3  Alabama   0    1   0        0      35594       2019       01\n",
       "4  Alabama   0    1   0        1      31393       2019       01"
      ]
     },
     "execution_count": 30,
     "metadata": {},
     "output_type": "execute_result"
    }
   ],
   "source": [
    "df['REFRESH_DT'] = df['REFRESH_DT'].replace('12','2019')\n",
    "df.head()"
   ]
  },
  {
   "cell_type": "code",
   "execution_count": 35,
   "id": "ec7c49e8",
   "metadata": {},
   "outputs": [],
   "source": [
    "df.to_csv('/Users/uremekn/Downloads/census_demo_pop_2019.csv', encoding='utf8', header=False, index=False, index_label=None)"
   ]
  },
  {
   "cell_type": "code",
   "execution_count": 42,
   "id": "b9daf721",
   "metadata": {},
   "outputs": [],
   "source": [
    "import snowflake.connector\n",
    "\n",
    "ctx = snowflake.connector.connect(\n",
    "    user='<USER>',\n",
    "    password='<PASSWORD>',\n",
    "    account='<ACCOUNT>',\n",
    "    warehouse='<WAREHOUSE>',\n",
    "    database='<DATABASE>',\n",
    "    schema='<SCHEMA>'\n",
    "    )"
   ]
  },
  {
   "cell_type": "code",
   "execution_count": 34,
   "id": "9f78ce54",
   "metadata": {},
   "outputs": [
    {
     "data": {
      "text/plain": [
       "<snowflake.connector.cursor.SnowflakeCursor at 0x22586d0ad30>"
      ]
     },
     "execution_count": 34,
     "metadata": {},
     "output_type": "execute_result"
    }
   ],
   "source": [
    "ctx.cursor().execute(\n",
    "       \"\"\"CREATE TABLE IF NOT EXISTS PUBLIC.CENSUS_DEMO_POP_2019\n",
    "       (\"STATE\" NVARCHAR(50),\n",
    "        \"SEX\" INTEGER,\n",
    "        \"RACE\" INTEGER,\n",
    "        \"AGE\" INTEGER, \n",
    "        \"HISPANIC\" INTEGER,\n",
    "        \"POPULATION\" INTEGER,\n",
    "        \"REFRESH_DT\" NVARCHAR(10),\n",
    "        \"STATE_ID\" NVARCHAR(10)) \"\"\")"
   ]
  },
  {
   "cell_type": "code",
   "execution_count": null,
   "id": "da4bfb35",
   "metadata": {},
   "outputs": [],
   "source": [
    "ctx.cursor().execute(\"\"\" truncate PUBLIC.CENSUS_DEMO_POP_2019 \"\"\")"
   ]
  },
  {
   "cell_type": "code",
   "execution_count": 44,
   "id": "6b7592a0",
   "metadata": {},
   "outputs": [
    {
     "data": {
      "text/plain": [
       "<snowflake.connector.cursor.SnowflakeCursor at 0x22586e97100>"
      ]
     },
     "execution_count": 44,
     "metadata": {},
     "output_type": "execute_result"
    }
   ],
   "source": [
    "ctx.cursor().execute(\"PUT 'file:///Users/uremekn/Downloads/census_demo_pop_2019.csv' @%CENSUS_DEMO_POP_2019\")\n",
    "ctx.cursor().execute(\"COPY INTO PUBLIC.CENSUS_DEMO_POP_2019 purge = True\")\n",
    "\n",
    "# on_error='continue'\n",
    "\n",
    "cursor().close()\n",
    "ctx.close()"
   ]
  },
  {
   "cell_type": "code",
   "execution_count": 45,
   "id": "8ad972d4",
   "metadata": {},
   "outputs": [
    {
     "data": {
      "text/html": [
       "<div>\n",
       "<style scoped>\n",
       "    .dataframe tbody tr th:only-of-type {\n",
       "        vertical-align: middle;\n",
       "    }\n",
       "\n",
       "    .dataframe tbody tr th {\n",
       "        vertical-align: top;\n",
       "    }\n",
       "\n",
       "    .dataframe thead th {\n",
       "        text-align: right;\n",
       "    }\n",
       "</style>\n",
       "<table border=\"1\" class=\"dataframe\">\n",
       "  <thead>\n",
       "    <tr style=\"text-align: right;\">\n",
       "      <th></th>\n",
       "      <th>STATE</th>\n",
       "      <th>SEX</th>\n",
       "      <th>RACE</th>\n",
       "      <th>AGE</th>\n",
       "      <th>HISPANIC</th>\n",
       "      <th>POPULATION</th>\n",
       "      <th>REFRESH_DT</th>\n",
       "      <th>STATE_ID</th>\n",
       "    </tr>\n",
       "  </thead>\n",
       "  <tbody>\n",
       "    <tr>\n",
       "      <th>0</th>\n",
       "      <td>Alabama</td>\n",
       "      <td>0</td>\n",
       "      <td>0</td>\n",
       "      <td>0</td>\n",
       "      <td>0</td>\n",
       "      <td>56901</td>\n",
       "      <td>2019</td>\n",
       "      <td>01</td>\n",
       "    </tr>\n",
       "    <tr>\n",
       "      <th>1</th>\n",
       "      <td>Alabama</td>\n",
       "      <td>0</td>\n",
       "      <td>0</td>\n",
       "      <td>0</td>\n",
       "      <td>1</td>\n",
       "      <td>51761</td>\n",
       "      <td>2019</td>\n",
       "      <td>01</td>\n",
       "    </tr>\n",
       "    <tr>\n",
       "      <th>2</th>\n",
       "      <td>Alabama</td>\n",
       "      <td>0</td>\n",
       "      <td>0</td>\n",
       "      <td>0</td>\n",
       "      <td>2</td>\n",
       "      <td>5140</td>\n",
       "      <td>2019</td>\n",
       "      <td>01</td>\n",
       "    </tr>\n",
       "    <tr>\n",
       "      <th>3</th>\n",
       "      <td>Alabama</td>\n",
       "      <td>0</td>\n",
       "      <td>1</td>\n",
       "      <td>0</td>\n",
       "      <td>0</td>\n",
       "      <td>35594</td>\n",
       "      <td>2019</td>\n",
       "      <td>01</td>\n",
       "    </tr>\n",
       "    <tr>\n",
       "      <th>4</th>\n",
       "      <td>Alabama</td>\n",
       "      <td>0</td>\n",
       "      <td>1</td>\n",
       "      <td>0</td>\n",
       "      <td>1</td>\n",
       "      <td>31393</td>\n",
       "      <td>2019</td>\n",
       "      <td>01</td>\n",
       "    </tr>\n",
       "  </tbody>\n",
       "</table>\n",
       "</div>"
      ],
      "text/plain": [
       "     STATE  SEX  RACE  AGE  HISPANIC  POPULATION REFRESH_DT STATE_ID\n",
       "0  Alabama    0     0    0         0       56901       2019       01\n",
       "1  Alabama    0     0    0         1       51761       2019       01\n",
       "2  Alabama    0     0    0         2        5140       2019       01\n",
       "3  Alabama    0     1    0         0       35594       2019       01\n",
       "4  Alabama    0     1    0         1       31393       2019       01"
      ]
     },
     "execution_count": 45,
     "metadata": {},
     "output_type": "execute_result"
    }
   ],
   "source": [
    "import pandas as pd\n",
    "\n",
    "sql = \"\"\" SELECT *\n",
    "          FROM PUBLIC.CENSUS_DEMO_POP_2019\n",
    "          LIMIT 100 \"\"\"\n",
    "\n",
    "test = pd.read_sql_query(sql, con=ctx)\n",
    "test.head()"
   ]
  },
  {
   "cell_type": "code",
   "execution_count": null,
   "id": "9fd5a49e",
   "metadata": {},
   "outputs": [],
   "source": []
  }
 ],
 "metadata": {
  "kernelspec": {
   "display_name": "Python 3",
   "language": "python",
   "name": "python3"
  },
  "language_info": {
   "codemirror_mode": {
    "name": "ipython",
    "version": 3
   },
   "file_extension": ".py",
   "mimetype": "text/x-python",
   "name": "python",
   "nbconvert_exporter": "python",
   "pygments_lexer": "ipython3",
   "version": "3.8.8"
  }
 },
 "nbformat": 4,
 "nbformat_minor": 5
}
